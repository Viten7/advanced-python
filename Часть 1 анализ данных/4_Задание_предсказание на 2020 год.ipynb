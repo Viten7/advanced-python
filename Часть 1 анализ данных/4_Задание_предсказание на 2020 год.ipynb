{
 "cells": [
  {
   "cell_type": "markdown",
   "metadata": {},
   "source": [
    "# \n",
    "Задание: предсказание на 2020 год\n",
    "Возьмите данные по безработице в городе Москва:\n",
    "video.ittensive.com/python-advanced/data-9753-2019-07-25.utf.csv\n",
    "Сгруппируйте данные по годам, и, если в году меньше 6 значений, отбросьте эти годы.\n",
    "Постройте модель линейной регрессии по годам среднего значения отношения UnemployedDisabled к UnemployedTotal (процента людей с ограниченными возможностями) за месяц и ответьте, какое ожидается значение процента безработных инвалидов в 2020 году при сохранении текущей политики города Москвы?\n",
    "Ответ округлите до сотых. Например, 2,32\n",
    "\n",
    "Какое ожидается значение в 2020 году при сохранении текущей политики города Москвы? 1,52%\n"
   ]
  },
  {
   "cell_type": "code",
   "execution_count": 3,
   "metadata": {},
   "outputs": [
    {
     "name": "stdout",
     "output_type": "stream",
     "text": [
      "   global_id  ID  Year  UnemployedMen  UnemployedWomen  UnemployedYoung  \\\n",
      "0   39809862   1  2001           8896            25762             6696   \n",
      "1   64592413   3  2003           8679            24967             6226   \n",
      "2   64592414   4  2004           9822            25239             7318   \n",
      "3   64592415   5  2005          10844            23597             6890   \n",
      "4   64592416   6  2006          11041            22928             6604   \n",
      "\n",
      "   UnemployedDisabled  UnemployedTotal   Period  Unnamed: 9  \n",
      "0                 824            34658  Декабрь         NaN  \n",
      "1                1155            33646  Декабрь         NaN  \n",
      "2                1411            35061  Декабрь         NaN  \n",
      "3                1531            34441  Декабрь         NaN  \n",
      "4                1671            33969  Декабрь         NaN  \n",
      "   global_id  ID  Year  UnemployedMen  UnemployedWomen  UnemployedYoung  \\\n",
      "0   39809862   1  2001           8896            25762             6696   \n",
      "1   64592413   3  2003           8679            24967             6226   \n",
      "2   64592414   4  2004           9822            25239             7318   \n",
      "3   64592415   5  2005          10844            23597             6890   \n",
      "4   64592416   6  2006          11041            22928             6604   \n",
      "\n",
      "   UnemployedDisabled  UnemployedTotal   Period  Unnamed: 9       UDP  \n",
      "0                 824            34658  Декабрь         NaN  2.377517  \n",
      "1                1155            33646  Декабрь         NaN  3.432800  \n",
      "2                1411            35061  Декабрь         NaN  4.024415  \n",
      "3                1531            34441  Декабрь         NaN  4.445283  \n",
      "4                1671            33969  Декабрь         NaN  4.919191  \n",
      "         global_id     ID  UnemployedMen  UnemployedWomen  UnemployedYoung  \\\n",
      "Year                                                                         \n",
      "2012  2.561585e+08   17.5   14505.333333     19315.250000      4909.250000   \n",
      "2013  2.735736e+08   30.5   10719.416667     15306.500000      3388.666667   \n",
      "2014  2.735736e+08   43.5   10271.666667     14361.500000      3239.833333   \n",
      "2015  2.735736e+08   56.5   15142.666667     20273.250000      5363.000000   \n",
      "2016  2.763927e+08   69.5   18417.666667     23349.750000      5856.916667   \n",
      "2017  5.707968e+08   81.5   13496.666667     16997.750000      3833.583333   \n",
      "2018  8.804362e+08   93.5   11669.750000     15135.250000      3001.000000   \n",
      "2019  9.248504e+08  102.5   12943.666667     16575.833333      2913.500000   \n",
      "\n",
      "      UnemployedDisabled  UnemployedTotal  Unnamed: 9       UDP  \n",
      "Year                                                             \n",
      "2012         1393.916667     33820.583333         NaN  4.122145  \n",
      "2013         1047.416667     26025.916667         NaN  4.031303  \n",
      "2014          990.500000     24633.166667         NaN  4.025994  \n",
      "2015         1020.583333     35415.916667         NaN  2.903958  \n",
      "2016         1205.166667     41767.416667         NaN  2.890474  \n",
      "2017          812.000000     30494.416667         NaN  2.656077  \n",
      "2018          554.250000     26805.000000         NaN  2.059901  \n",
      "2019          574.500000     29519.500000         NaN  1.947273  \n",
      "[[1.52]]\n"
     ]
    },
    {
     "name": "stderr",
     "output_type": "stream",
     "text": [
      "C:\\Users\\User\\AppData\\Local\\Temp\\ipykernel_10504\\3463173636.py:9: FutureWarning: The default value of numeric_only in DataFrameGroupBy.mean is deprecated. In a future version, numeric_only will default to False. Either specify numeric_only or select only columns which should be valid for the function.\n",
      "  data_group = data_group.groupby(\"Year\").mean()\n"
     ]
    }
   ],
   "source": [
    "import pandas as pd\n",
    "import numpy as np\n",
    "from sklearn.linear_model import LinearRegression\n",
    "data = pd.read_csv(\"https://video.ittensive.com/python-advanced/data-9753-2019-07-25.utf.csv\", delimiter=\";\")\n",
    "print(data.head())\n",
    "data[\"UDP\"] = 100*data[\"UnemployedDisabled\"]/data[\"UnemployedTotal\"]\n",
    "print(data.head())\n",
    "data_group = data.groupby(\"Year\").filter(lambda x: x[\"UDP\"].count() > 5)\n",
    "data_group = data_group.groupby(\"Year\").mean()\n",
    "print(data_group)\n",
    "x = np.array(data_group.index).reshape(len(data_group.index), 1)\n",
    "y = np.array(data_group[\"UDP\"]).reshape(len(data_group.index), 1)\n",
    "model = LinearRegression()\n",
    "model.fit(x, y)\n",
    "print (np.round(model.predict(np.array(2020).reshape(1, 1)), 2))"
   ]
  },
  {
   "cell_type": "code",
   "execution_count": 4,
   "metadata": {},
   "outputs": [
    {
     "name": "stdout",
     "output_type": "stream",
     "text": [
      "[2012 2013 2014 2015 2016 2017 2018 2019]\n",
      "[[2012]\n",
      " [2013]\n",
      " [2014]\n",
      " [2015]\n",
      " [2016]\n",
      " [2017]\n",
      " [2018]\n",
      " [2019]]\n"
     ]
    }
   ],
   "source": [
    "x = np.array(data_group.index)\n",
    "print(x)\n",
    "x = np.array(data_group.index).reshape(len(data_group.index), 1)\n",
    "print(x)\n"
   ]
  }
 ],
 "metadata": {
  "kernelspec": {
   "display_name": "Python 3 (ipykernel)",
   "language": "python",
   "name": "python3"
  },
  "language_info": {
   "codemirror_mode": {
    "name": "ipython",
    "version": 3
   },
   "file_extension": ".py",
   "mimetype": "text/x-python",
   "name": "python",
   "nbconvert_exporter": "python",
   "pygments_lexer": "ipython3",
   "version": "3.10.4"
  }
 },
 "nbformat": 4,
 "nbformat_minor": 2
}
