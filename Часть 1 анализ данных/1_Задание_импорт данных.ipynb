{
 "cells": [
  {
   "cell_type": "markdown",
   "id": "7aadf9d0",
   "metadata": {},
   "source": [
    "# мой вариант"
   ]
  },
  {
   "cell_type": "markdown",
   "id": "32b86495",
   "metadata": {},
   "source": [
    "# \n",
    "Задание: импорт данных\n",
    "Возьмите данные по вызовам пожарных служб в Москве за 2015-2019 годы:\n",
    "https://video.ittensive.com/python-advanced/data-5283-2019-10-04.utf.csv\n",
    "Получите из них фрейм данных (таблицу значений). По этому фрейму вычислите среднее значение вызовов пожарных машин в месяц в одном округе Москвы, округлив до целых\n",
    "Примечание: найдите среднее значение вызовов, без учета года\n",
    "Какое среднее значение вызовов пожарных машин в месяц в одном округе Москвы в 2015-2019 годах с точностью до целых? 493"
   ]
  },
  {
   "cell_type": "code",
   "execution_count": 5,
   "id": "43e64a15",
   "metadata": {
    "scrolled": true
   },
   "outputs": [
    {
     "name": "stdout",
     "output_type": "stream",
     "text": [
      "(627, 7)\n",
      "   ID                                  AdmArea  Year  global_id   Month  \\\n",
      "0   1       Центральный административный округ  2015   37153160  Январь   \n",
      "1   2          Северный административный округ  2015   37153161  Январь   \n",
      "2   3  Северо-Восточный административный округ  2015   37153162  Январь   \n",
      "3   4         Восточный административный округ  2015   37153163  Январь   \n",
      "4   5     Юго-Восточный административный округ  2015   37153164  Январь   \n",
      "\n",
      "   Calls  Unnamed: 6  \n",
      "0    408         NaN  \n",
      "1    408         NaN  \n",
      "2    445         NaN  \n",
      "3    619         NaN  \n",
      "4    541         NaN  \n",
      "<class 'pandas.core.frame.DataFrame'>\n",
      "RangeIndex: 627 entries, 0 to 626\n",
      "Data columns (total 7 columns):\n",
      " #   Column      Non-Null Count  Dtype  \n",
      "---  ------      --------------  -----  \n",
      " 0   ID          627 non-null    int64  \n",
      " 1   AdmArea     627 non-null    object \n",
      " 2   Year        627 non-null    int64  \n",
      " 3   global_id   627 non-null    int64  \n",
      " 4   Month       627 non-null    object \n",
      " 5   Calls       627 non-null    int64  \n",
      " 6   Unnamed: 6  0 non-null      float64\n",
      "dtypes: float64(1), int64(4), object(2)\n",
      "memory usage: 34.4+ KB\n",
      "493\n"
     ]
    }
   ],
   "source": [
    "import pandas as pd\n",
    "data = pd.read_csv(\"https://video.ittensive.com/python-advanced/data-5283-2019-10-04.utf.csv\", delimiter=\";\")\n",
    "print(data.shape)\n",
    "print(data.head())\n",
    "data_array = data.values\n",
    "data.info()\n",
    "print(round(data[\"Calls\"].mean()))"
   ]
  },
  {
   "cell_type": "markdown",
   "id": "e7c3f114",
   "metadata": {},
   "source": [
    "## Вариант ITTensive"
   ]
  },
  {
   "cell_type": "code",
   "execution_count": 6,
   "id": "2b6eb4a8",
   "metadata": {},
   "outputs": [
    {
     "name": "stdout",
     "output_type": "stream",
     "text": [
      "493.0\n"
     ]
    }
   ],
   "source": [
    "import pandas as pd\n",
    "data = pd.read_csv(\"https://video.ittensive.com/python-advanced/data-5283-2019-10-04.utf.csv\", delimiter=\";\")\n",
    "print (data[\"Calls\"].mean().round())"
   ]
  }
 ],
 "metadata": {
  "kernelspec": {
   "display_name": "Python 3 (ipykernel)",
   "language": "python",
   "name": "python3"
  },
  "language_info": {
   "codemirror_mode": {
    "name": "ipython",
    "version": 3
   },
   "file_extension": ".py",
   "mimetype": "text/x-python",
   "name": "python",
   "nbconvert_exporter": "python",
   "pygments_lexer": "ipython3",
   "version": "3.10.4"
  }
 },
 "nbformat": 4,
 "nbformat_minor": 5
}
