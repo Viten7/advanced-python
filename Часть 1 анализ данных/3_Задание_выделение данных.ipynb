{
 "cells": [
  {
   "cell_type": "markdown",
   "metadata": {},
   "source": [
    "# Задание: выделение данных\n",
    "Получите данные по безработице в Москве:\n",
    "https://video.ittensive.com/python-advanced/data-9753-2019-07-25.utf.csv\n",
    "Найдите, с какого года процент людей с ограниченными возможностями (UnemployedDisabled) среди всех безработных (UnemployedTotal) стал меньше 2%.\n",
    "\n",
    "С какого года безработных инвалидов меньше 2% в Москве? 2018\n"
   ]
  },
  {
   "cell_type": "code",
   "execution_count": 6,
   "metadata": {},
   "outputs": [
    {
     "name": "stdout",
     "output_type": "stream",
     "text": [
      "   global_id  ID  Year  UnemployedMen  UnemployedWomen  UnemployedYoung  \\\n",
      "0   39809862   1  2001           8896            25762             6696   \n",
      "1   64592413   3  2003           8679            24967             6226   \n",
      "2   64592414   4  2004           9822            25239             7318   \n",
      "3   64592415   5  2005          10844            23597             6890   \n",
      "4   64592416   6  2006          11041            22928             6604   \n",
      "\n",
      "   UnemployedDisabled  UnemployedTotal   Period  Unnamed: 9  \n",
      "0                 824            34658  Декабрь         NaN  \n",
      "1                1155            33646  Декабрь         NaN  \n",
      "2                1411            35061  Декабрь         NaN  \n",
      "3                1531            34441  Декабрь         NaN  \n",
      "4                1671            33969  Декабрь         NaN  \n",
      "0      2.377517\n",
      "1      3.432800\n",
      "2      4.024415\n",
      "3      4.445283\n",
      "4      4.919191\n",
      "         ...   \n",
      "96     1.914943\n",
      "97     1.938099\n",
      "98     1.905405\n",
      "99     1.986983\n",
      "100    2.055014\n",
      "Name: Sum, Length: 101, dtype: float64\n",
      "    global_id   ID  Year  UnemployedMen  UnemployedWomen  UnemployedYoung  \\\n",
      "91  894075540   96  2018          10651            14043             2829   \n",
      "92  896740236   97  2018          10763            14375             2892   \n",
      "93  904345746   98  2018          11080            14610             2911   \n",
      "94  909303094   99  2018          12063            15815             3077   \n",
      "95  918869065  100  2019          12225            16078             2960   \n",
      "96  918869066  101  2019          13123            16904             3103   \n",
      "97  918869067  102  2019          13433            17164             3102   \n",
      "98  926094627  103  2019          13803            17319             3060   \n",
      "99  933200250  104  2019          12818            16221             2711   \n",
      "\n",
      "    UnemployedDisabled  UnemployedTotal    Period  Unnamed: 9       Sum  \n",
      "91                 472            24694  Сентябрь         NaN  1.911395  \n",
      "92                 477            25138   Октябрь         NaN  1.897526  \n",
      "93                 467            25690    Ноябрь         NaN  1.817828  \n",
      "94                 527            27878   Декабрь         NaN  1.890380  \n",
      "95                 533            28303    Январь         NaN  1.883193  \n",
      "96                 575            30027   Февраль         NaN  1.914943  \n",
      "97                 593            30597      Март         NaN  1.938099  \n",
      "98                 593            31122    Апрель         NaN  1.905405  \n",
      "99                 577            29039       Май         NaN  1.986983  \n",
      "Int64Index([2018, 2018, 2018, 2018, 2019, 2019, 2019, 2019, 2019], dtype='int64', name='Year')\n",
      "Int64Index([2018], dtype='int64', name='Year')\n"
     ]
    }
   ],
   "source": [
    "import pandas as pd\n",
    "data = pd.read_csv(\"https://video.ittensive.com/python-advanced/data-9753-2019-07-25.utf.csv\", delimiter=\";\")\n",
    "print(data.head())\n",
    "\n",
    "data[\"Sum\"] = data.apply(lambda x: 100*x[6]/x[7], axis=1)\n",
    "#data[\"Sum\"] = 100*data[\"UnemployedDisabled\"]/data[\"UnemployedTotal\"] # тоже, но без лямбда-функции\n",
    "print(data[\"Sum\"])\n",
    "\n",
    "data = data[data[\"Sum\"] < 2]\n",
    "#data = data[100*data[\"UnemployedDisabled\"]/data[\"UnemployedTotal\"] < 2] # можно и так отсортировать\n",
    "print(data)\n",
    "\n",
    "data = data.set_index(\"Year\")\n",
    "data = data.sort_index()\n",
    "print (data.index)\n",
    "print (data.index[0:1])\n"
   ]
  },
  {
   "cell_type": "code",
   "execution_count": 6,
   "metadata": {},
   "outputs": [
    {
     "name": "stdout",
     "output_type": "stream",
     "text": [
      "Int64Index([2018], dtype='int64', name='Year')\n"
     ]
    }
   ],
   "source": [
    "import pandas as pd\n",
    "data = pd.read_csv(\"https://video.ittensive.com/python-advanced/data-9753-2019-07-25.utf.csv\", delimiter=\";\")\n",
    "data[\"Sum\"] = data.apply(lambda x: 100*x[6]/x[7], axis=1)\n",
    "data = data[data[\"Sum\"] < 2]\n",
    "data = data.set_index(\"Year\")\n",
    "data = data.sort_index()\n",
    "print (data.index[0:1])"
   ]
  }
 ],
 "metadata": {
  "kernelspec": {
   "display_name": "Python 3 (ipykernel)",
   "language": "python",
   "name": "python3"
  },
  "language_info": {
   "codemirror_mode": {
    "name": "ipython",
    "version": 3
   },
   "file_extension": ".py",
   "mimetype": "text/x-python",
   "name": "python",
   "nbconvert_exporter": "python",
   "pygments_lexer": "ipython3",
   "version": "3.10.4"
  }
 },
 "nbformat": 4,
 "nbformat_minor": 2
}
