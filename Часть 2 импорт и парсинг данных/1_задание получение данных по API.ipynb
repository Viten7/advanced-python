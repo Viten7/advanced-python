{
 "cells": [
  {
   "cell_type": "markdown",
   "id": "a2c3dbfa",
   "metadata": {},
   "source": [
    "# Задание: получение данных по API\n",
    "Изучите API Геокодера Яндекса\n",
    "tech.yandex.ru/maps/geocoder/doc/desc/concepts/input_params-docpage/\n",
    "и получите ключ API для него в кабинете разработчика.\n",
    "Выполните запрос к API и узнайте долготу точки на карте (Point) для города Самара.\n",
    "Внимание: активация ключа Геокодера Яндекса может занимать несколько часов (до суток).\n",
    "В качестве запасного варианта можно использовать этот ключ - 3f355b88-81e9-4bbf-a0a4-eb687fdea256 - он только для выполнения этого задания!\n",
    "Какая долгота у точки на карте для Самары? 50.101783"
   ]
  },
  {
   "cell_type": "code",
   "execution_count": 13,
   "id": "8ee18108",
   "metadata": {},
   "outputs": [
    {
     "name": "stdout",
     "output_type": "stream",
     "text": [
      "50.100202\n"
     ]
    }
   ],
   "source": [
    "import requests\n",
    "import json\n",
    "r = requests.get(\"https://geocode-maps.yandex.ru/1.x?geocode=Самара&apikey=3f355b88-81e9-4bbf-a0a4-eb687fdea256&format=json&results=1\")\n",
    "geo = json.loads(r.content)\n",
    "print(geo['response']['GeoObjectCollection']['featureMember'][0]['GeoObject']['Point']['pos'].split(\" \")[0])\n",
    "\n"
   ]
  }
 ],
 "metadata": {
  "kernelspec": {
   "display_name": "Python 3 (ipykernel)",
   "language": "python",
   "name": "python3"
  },
  "language_info": {
   "codemirror_mode": {
    "name": "ipython",
    "version": 3
   },
   "file_extension": ".py",
   "mimetype": "text/x-python",
   "name": "python",
   "nbconvert_exporter": "python",
   "pygments_lexer": "ipython3",
   "version": "3.10.4"
  }
 },
 "nbformat": 4,
 "nbformat_minor": 5
}
