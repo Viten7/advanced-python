{
 "cells": [
  {
   "cell_type": "markdown",
   "id": "25a4974a",
   "metadata": {},
   "source": [
    "# \n",
    "Задание: получение котировок акций\n",
    "Получите данные по котировкам акций со страницы:\n",
    "mfd.ru/marketdata/?id=5&group=16&mode=3&sortHeader=name&sortOrder=1&selectedDate=01.11.2019\n",
    "и найдите, по какому тикеру был максимальный рост числа сделок (в процентах) за 1 ноября 2019 года.\n",
    "\n",
    "По какому тикеру был максимальный рост числа сделок (в процентах) за 1 ноября 2019 года? ИКРУСС-ИНВ\n"
   ]
  },
  {
   "cell_type": "code",
   "execution_count": 12,
   "id": "a89eba24",
   "metadata": {},
   "outputs": [
    {
     "name": "stdout",
     "output_type": "stream",
     "text": [
      "С/%\n",
      "11.0    ИКРУСС-ИНВ\n",
      "Name: Тикер, dtype: object\n"
     ]
    }
   ],
   "source": [
    "import requests\n",
    "from bs4 import BeautifulSoup\n",
    "import pandas as pd\n",
    "\n",
    "r = requests.get(\"https://mfd.ru/marketdata/?id=5&group=16&mode=3&sortHeader=name&sortOrder=1&selectedDate=01.11.2019\")\n",
    "r.status_code\n",
    "#print(r.content)\n",
    "html = BeautifulSoup(r.content)\n",
    "#print (html)\n",
    "table = html.find(\"table\", {\"id\":\"marketDataList\"})\n",
    "rows = []\n",
    "trs = table.find_all(\"tr\")\n",
    "for tr in trs:\n",
    "    tr =[td.get_text(strip=True) for td in tr.find_all(\"td\")]\n",
    "    if len(tr) > 0:\n",
    "        rows.append(tr)\n",
    "#print(rows)\n",
    "data = pd.DataFrame(rows, columns=[\"Тикер\", \"Дата\", \"Сделки\", \"C/рост\", \"С/%\", \"Закрытие\", \"Открытие\", \"min\", \"max\", \"avg\", \"шт\", \"руб\", \"Всего\"])\n",
    "#print(data)\n",
    "data = data[data[\"Сделки\"] != \"N/A\"]\n",
    "data[\"С/%\"] = data[\"С/%\"].str.replace(\"−\",\"-\").str.replace(\"%\",\"\").astype(float)\n",
    "data = data.set_index(\"С/%\")\n",
    "data = data.sort_index(ascending=False)\n",
    "print (data[\"Тикер\"].head(1))"
   ]
  },
  {
   "cell_type": "code",
   "execution_count": 8,
   "id": "7ae07dd2",
   "metadata": {},
   "outputs": [],
   "source": [
    "#print(r.content)"
   ]
  }
 ],
 "metadata": {
  "kernelspec": {
   "display_name": "Python 3 (ipykernel)",
   "language": "python",
   "name": "python3"
  },
  "language_info": {
   "codemirror_mode": {
    "name": "ipython",
    "version": 3
   },
   "file_extension": ".py",
   "mimetype": "text/x-python",
   "name": "python",
   "nbconvert_exporter": "python",
   "pygments_lexer": "ipython3",
   "version": "3.10.4"
  }
 },
 "nbformat": 4,
 "nbformat_minor": 5
}
