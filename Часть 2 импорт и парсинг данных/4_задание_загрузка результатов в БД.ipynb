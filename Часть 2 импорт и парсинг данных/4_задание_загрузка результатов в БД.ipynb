{
 "cells": [
  {
   "cell_type": "markdown",
   "metadata": {},
   "source": [
    "#\n",
    "Задание: загрузка результатов в БД\n",
    "Соберите данные о моделях холодильников Саратов с маркетплейса beru.ru: URL, название, цена, размеры, общий объем, объем холодильной камеры.\n",
    "Создайте соответствующие таблицы в SQLite базе данных и загрузите полученные данные в таблицу beru_goods.\n",
    "Для парсинга можно использовать зеркало страницы beru.ru с результатами для холодильников Саратов по адресу:\n",
    "video.ittensive.com/data/018-python-advanced/beru.ru/"
   ]
  },
  {
   "cell_type": "code",
   "execution_count": 1,
   "metadata": {},
   "outputs": [
    {
     "name": "stdout",
     "output_type": "stream",
     "text": [
      "[]\n"
     ]
    }
   ],
   "source": [
    "import sqlite3\n",
    "import requests\n",
    "from bs4 import BeautifulSoup\n",
    "\n",
    "def find_number(text):\n",
    "    return int(\"0\" + \"\".join(i for i in text if i.isdigit()))\n",
    "def find_data (link):\n",
    "    r = requests.get(\"https://beru.ru\" + link)\n",
    "    html = BeautifulSoup(r.content)\n",
    "    title = html.find(\"h1\", {\"class\": \"_3TfWusA7bt\"}).get_text()\n",
    "    price = find_number(html.find(\"span\", {\"data-tid\": \"c3eaad93\"}).get_text())\n",
    "    tags = html.find_all(\"span\", {\"class\": \"_112Tad-7AP\"})\n",
    "    width = 0\n",
    "    depth = 0\n",
    "    height = 0\n",
    "    volume = 0\n",
    "    freezer = 0\n",
    "    for tag in tags:\n",
    "        tag = tag.get_text()\n",
    "        if tag.find(\"ШхВхГ\") > -1:\n",
    "            dims = tag.split(\":\")[1].split(\"х\")\n",
    "            width = float(dims[0])\n",
    "            depth = float(dims[1])\n",
    "            height = float(dims[2].split(\" \")[0])\n",
    "        if tag.find(\"общий объем\") > -1:\n",
    "            volume = find_number(tag)\n",
    "        if tag.find(\"объем холодильной камеры\") > -1:\n",
    "            freezer = find_number(tag)\n",
    "    return [link, title, price, width, depth, height, volume, freezer]\n",
    "\n",
    "r = requests.get(\"https://beru.ru/catalog/kholodilniki/79958/list?cvredirect=3&suggest_reqId=83526016473955609954771572320629&text=%D0%A1%D0%B0%D1%80%D0%B0%D1%82%D0%BE%D0%B2\")\n",
    "html = BeautifulSoup(r.content)\n",
    "links = html.find_all(\"a\", {\"class\": \"grid-snippet__react-link\"})\n",
    "data = []\n",
    "for link in links:\n",
    "    if link[\"href\"] and link.get_text().find(\"Саратов\") > -1:\n",
    "        data.append(find_data(link[\"href\"]))\n",
    "conn = sqlite3.connect(\"sqlite/data.db3\")\n",
    "db = conn.cursor()\n",
    "db.execute(\"\"\"CREATE TABLE beru_goods\n",
    "            (id INTEGER PRIMARY KEY AUTOINCREMENT not null,\n",
    "            url text,\n",
    "            title text default '',\n",
    "            price INTEGER default 0,\n",
    "            width FLOAT default 0.0,\n",
    "            depth FLOAT default 0.0,\n",
    "            height FLOAT default 0.0,\n",
    "            volume INTEGER default 0,\n",
    "            freezer INTEGER default 0)\"\"\")\n",
    "conn.commit()\n",
    "db.executemany(\"\"\"INSERT INTO beru_goods (url, title, price, width, depth, height, volume, freezer)\n",
    "           VALUES (?, ?, ?, ?, ?, ?, ?, ?)\"\"\", data)\n",
    "conn.commit()\n",
    "print (db.execute(\"SELECT * FROM beru_goods\").fetchall())\n",
    "db.close()"
   ]
  }
 ],
 "metadata": {
  "kernelspec": {
   "display_name": "Python 3 (ipykernel)",
   "language": "python",
   "name": "python3"
  },
  "language_info": {
   "codemirror_mode": {
    "name": "ipython",
    "version": 3
   },
   "file_extension": ".py",
   "mimetype": "text/x-python",
   "name": "python",
   "nbconvert_exporter": "python",
   "pygments_lexer": "ipython3",
   "version": "3.10.4"
  }
 },
 "nbformat": 4,
 "nbformat_minor": 2
}
