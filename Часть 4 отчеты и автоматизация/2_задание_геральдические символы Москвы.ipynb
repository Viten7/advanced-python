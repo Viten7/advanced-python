{
 "cells": [
  {
   "cell_type": "markdown",
   "metadata": {},
   "source": [
    "# \n",
    "Задание: геральдические символы Москвы\n",
    "Сгенерируйте PDF документ из списка флагов и гербов районов Москвы:\n",
    "https://video.ittensive.com/python-advanced/data-102743-2019-11-13.utf.csv\n",
    "На каждой странице документа выведите название геральдического символа (Name), его описание (Description) и его изображение (Picture).\n",
    "Для показа изображений используйте адрес\n",
    "https://op.mos.ru/MEDIA/showFile?id=XXX\n",
    "где XXX - это значение поля Picture в наборе данных. Например:\n",
    "https://op.mos.ru/MEDIA/showFile?id=8466da35-6801-41a9-a71e-04b60408accb\n",
    "В случае возникновения проблем с загрузкой изображений с op.mos.ru можно добавить в код настройку для форсирования использования дополнительных видов шифрования в протоколе SSL/TLS.\n",
    "requests.packages.urllib3.util.ssl_.DEFAULT_CIPHERS = 'ALL:@SECLEVEL=1'\n",
    "\n",
    "Если на каждой странице PDF документа выводить по одному геральдическому символу, то сколько получится страниц? 42"
   ]
  },
  {
   "cell_type": "code",
   "execution_count": null,
   "metadata": {},
   "outputs": [],
   "source": [
    "# https://video.ittensive.com/python-advanced/python-advanced-064-fb4ac120e6ed16a9f889f67a8689e480.mp4?1678218350175"
   ]
  },
  {
   "cell_type": "code",
   "execution_count": 1,
   "metadata": {},
   "outputs": [
    {
     "data": {
      "text/plain": [
       "True"
      ]
     },
     "execution_count": 1,
     "metadata": {},
     "output_type": "execute_result"
    }
   ],
   "source": [
    "import pandas as pd\n",
    "import pdfkit\n",
    "data = pd.read_csv(\"https://video.ittensive.com/python-advanced/data-102743-2019-11-13.utf.csv\", delimiter=\";\")\n",
    "html = '''<html>\n",
    "<head>\n",
    "    <title>Геральдические символы Москвы</title>\n",
    "    <meta charset=\"utf-8\"/>\n",
    "</head>\n",
    "<body>'''\n",
    "for i, item in data.iterrows():\n",
    "    if i == 0:\n",
    "        html += '<h1>' + item['Name'] + '</h1>'\n",
    "    else:\n",
    "        html += '<h1 style=\"page-break-before:always\">' + item['Name'] + '</h1>'\n",
    "    html += '''<p>\n",
    "        <img style=\"width:80%;margin-left:10%\"\n",
    "        src=\"https://op.mos.ru/MEDIA/showFile?id=''' + item['Picture'] + '''\">\n",
    "    </p>'''\n",
    "    html += '<p style=\"font-size:150%\">' + item['Description'] + '</p>'\n",
    "html += '</body></html>'\n",
    "\n",
    "config = pdfkit.configuration(wkhtmltopdf='C:/Program Files/wkhtmltopdf/bin/wkhtmltopdf.exe')\n",
    "options = {\n",
    "    'page-size': 'A4',\n",
    "    'header-right': '[page]'\n",
    "}\n",
    "pdfkit.from_string(html, 'heraldic.pdf',\n",
    "                    configuration=config, options=options)"
   ]
  }
 ],
 "metadata": {
  "kernelspec": {
   "display_name": "Python 3 (ipykernel)",
   "language": "python",
   "name": "python3"
  },
  "language_info": {
   "codemirror_mode": {
    "name": "ipython",
    "version": 3
   },
   "file_extension": ".py",
   "mimetype": "text/x-python",
   "name": "python",
   "nbconvert_exporter": "python",
   "pygments_lexer": "ipython3",
   "version": "3.10.4"
  }
 },
 "nbformat": 4,
 "nbformat_minor": 2
}
